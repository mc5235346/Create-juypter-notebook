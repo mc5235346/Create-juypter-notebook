{
 "cells": [
  {
   "cell_type": "markdown",
   "id": "7d71cf62-89d8-419c-8bbd-c048f9bcd249",
   "metadata": {},
   "source": [
    "**Exercise 2: Create markdown cell with title of the notebook**"
   ]
  },
  {
   "cell_type": "markdown",
   "id": "f277433c-bd40-4f1d-a0f4-d06b4d9398c8",
   "metadata": {},
   "source": [
    "# Data Science Tools and Ecosystem"
   ]
  },
  {
   "cell_type": "markdown",
   "id": "184622db-4746-4992-8d05-959f37153e83",
   "metadata": {},
   "source": [
    "**Exercise 3 - Create a markdown cell for an introduction**"
   ]
  },
  {
   "cell_type": "markdown",
   "id": "35b55ccf-6268-476a-844e-60354ce9401d",
   "metadata": {},
   "source": [
    "In this notebook, Data Science Tools and Ecosystem are summarized."
   ]
  },
  {
   "cell_type": "markdown",
   "id": "4a430afc-6177-4367-ad8b-24bc62ee0eba",
   "metadata": {},
   "source": [
    "**Exercise 10 - Insert a markdown cell to list Objectives**\n"
   ]
  },
  {
   "cell_type": "markdown",
   "id": "9a3bf87d-815e-422e-bff0-5e366c32fe52",
   "metadata": {},
   "source": [
    "Objectives:\n",
    "* List of popular languages for Data Science.\n",
    "* List of commonly used libraries for Data Science.\n",
    "* Examples of Data Science tools.\n",
    "* Exaples of evaluating arithmetic expressions in Python."
   ]
  },
  {
   "cell_type": "markdown",
   "id": "538de58c-2621-467e-8e42-681422e6e0dd",
   "metadata": {},
   "source": [
    "**Exercise 4 - Create a markdown cell to list data science languages**"
   ]
  },
  {
   "cell_type": "markdown",
   "id": "b4e6dead-f3b2-4f4c-8cb9-5d6d5e215f04",
   "metadata": {},
   "source": [
    "Some of the popular languages that Data Scientist use are:\n",
    "\n",
    "1. Python\n",
    "2. R\n",
    "3. SQL\n",
    "4. Scala\n",
    "5. C++"
   ]
  },
  {
   "cell_type": "markdown",
   "id": "73d9472f-6f99-41ca-842b-d5f62eda2b17",
   "metadata": {},
   "source": [
    "**Exercise 5 - Create a markdown cell to list data science libraries**"
   ]
  },
  {
   "cell_type": "markdown",
   "id": "9a8bcc3c-def1-4d67-8e24-88a7e3bc5ef2",
   "metadata": {},
   "source": [
    "Some of the commonly used libraries used by Data Scientists include:\n",
    "1. Pandas\n",
    "2. Matplotlib\n",
    "3. Keras\n",
    "4. Scikit-learn\n",
    "5. ggplot2"
   ]
  },
  {
   "cell_type": "markdown",
   "id": "3a25b6c1-80d5-41d3-8128-c35c3856f46b",
   "metadata": {},
   "source": [
    "**Exercise 6 - Create a markdown cell with a table of Data Science tools**"
   ]
  },
  {
   "cell_type": "markdown",
   "id": "ed09be1d-a7fb-4716-bebf-44dbe11a9ba0",
   "metadata": {},
   "source": [
    "| Data Science Tools |\n",
    "| ------------------ |\n",
    "| Jupyter Lab |\n",
    "| Spyder |\n",
    "| R Studio|"
   ]
  },
  {
   "cell_type": "markdown",
   "id": "ab7cd8e3-0742-43f5-bf15-2051a79a9400",
   "metadata": {},
   "source": [
    "**Exercise 7 - Create a markdown cell introducing arithmetic expression examples**"
   ]
  },
  {
   "cell_type": "markdown",
   "id": "377d027e-dee7-435c-8103-dffb39e30c6e",
   "metadata": {},
   "source": [
    "###  Below are a few examples of evaluating arithmetic expressions in Python."
   ]
  },
  {
   "cell_type": "markdown",
   "id": "a43a3a22-e6c4-4d4b-83d7-680f7567b6b3",
   "metadata": {},
   "source": [
    "**Exercise 8 - Create a code cell to multiply and add numbers**"
   ]
  },
  {
   "cell_type": "code",
   "execution_count": 1,
   "id": "4f3f8c37-47d6-44a7-b26c-08933ef9cce2",
   "metadata": {},
   "outputs": [
    {
     "data": {
      "text/plain": [
       "17"
      ]
     },
     "execution_count": 1,
     "metadata": {},
     "output_type": "execute_result"
    }
   ],
   "source": [
    "#  This a simple arithmetic expression to mutiply then add integers\n",
    "(3*4)+5"
   ]
  },
  {
   "cell_type": "markdown",
   "id": "6d81acee-52ee-48d5-a373-e1e329ac9b72",
   "metadata": {},
   "source": [
    "**Exercise 9 - Create a code cell to convert minutes to hours**\n"
   ]
  },
  {
   "cell_type": "code",
   "execution_count": 2,
   "id": "39e385a6-d080-4400-ab14-f326f29cc3f9",
   "metadata": {},
   "outputs": [
    {
     "data": {
      "text/plain": [
       "3.3333333333333335"
      ]
     },
     "execution_count": 2,
     "metadata": {},
     "output_type": "execute_result"
    }
   ],
   "source": [
    "# This will convert 200 minutes to hours by diving by 60\n",
    "\n",
    "200/60"
   ]
  },
  {
   "cell_type": "markdown",
   "id": "e7abd4ba-b5ce-4a67-8723-223c99359b1f",
   "metadata": {},
   "source": [
    "**Exercise 11 - Create a markdown cell to indicate the Author's name**\n"
   ]
  },
  {
   "cell_type": "markdown",
   "id": "b63d7746-28c0-4d5d-9463-96fc27230537",
   "metadata": {},
   "source": [
    "## Author \n",
    "   Maria Fernandez"
   ]
  },
  {
   "cell_type": "code",
   "execution_count": null,
   "id": "a82bb376-8c94-4f7a-8de8-7b0d84c83bdc",
   "metadata": {},
   "outputs": [],
   "source": []
  }
 ],
 "metadata": {
  "kernelspec": {
   "display_name": "Python 3 (ipykernel)",
   "language": "python",
   "name": "python3"
  },
  "language_info": {
   "codemirror_mode": {
    "name": "ipython",
    "version": 3
   },
   "file_extension": ".py",
   "mimetype": "text/x-python",
   "name": "python",
   "nbconvert_exporter": "python",
   "pygments_lexer": "ipython3",
   "version": "3.8.10"
  }
 },
 "nbformat": 4,
 "nbformat_minor": 5
}
